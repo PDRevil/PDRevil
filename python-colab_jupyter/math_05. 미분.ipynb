{
 "cells": [
  {
   "cell_type": "code",
   "execution_count": 2,
   "id": "651e2555",
   "metadata": {},
   "outputs": [],
   "source": [
    "from sympy import Symbol"
   ]
  },
  {
   "cell_type": "markdown",
   "id": "c32d68f2",
   "metadata": {},
   "source": [
    "### 평균변화율 함수"
   ]
  },
  {
   "cell_type": "code",
   "execution_count": 20,
   "id": "0d717d93",
   "metadata": {},
   "outputs": [],
   "source": [
    "def average(a,b):\n",
    "    m = max(a,b)\n",
    "    n = min(a,b)\n",
    "    x = Symbol('x')\n",
    "    \n",
    "    fx = 2*x**2+4*x+7   # 2x^2+4x+7\n",
    "    fb = fx.subs(x,m)   # 함수 m에 대입\n",
    "    fa = fx.subs(x,n)   # 함수 n에 대입 \n",
    "    \n",
    "    result = (fb-fa)/(m-n)\n",
    "    return result\n"
   ]
  },
  {
   "cell_type": "code",
   "execution_count": 21,
   "id": "510abe8c",
   "metadata": {},
   "outputs": [],
   "source": [
    "def average(a,b):\n",
    "    x = Symbol('x')\n",
    "    \n",
    "    fx = 2*x**2+4*x+7   # 2x^2+4x+7\n",
    "    fb = fx.subs(x,b)   # 함수 m에 대입\n",
    "    fa = fx.subs(x,a)   # 함수 n에 대입 \n",
    "    \n",
    "    result = (fb-fa)/(b-a)\n",
    "    return result"
   ]
  },
  {
   "cell_type": "code",
   "execution_count": 18,
   "id": "107b5732",
   "metadata": {},
   "outputs": [
    {
     "name": "stdout",
     "output_type": "stream",
     "text": [
      "8\n"
     ]
    }
   ],
   "source": [
    "print(average(0,2))"
   ]
  },
  {
   "cell_type": "code",
   "execution_count": 19,
   "id": "93f99faf",
   "metadata": {},
   "outputs": [
    {
     "name": "stdout",
     "output_type": "stream",
     "text": [
      "104\n"
     ]
    }
   ],
   "source": [
    "print(average(20,30))"
   ]
  },
  {
   "cell_type": "markdown",
   "id": "260273fe",
   "metadata": {},
   "source": [
    "### 순간변화율"
   ]
  },
  {
   "cell_type": "code",
   "execution_count": 7,
   "id": "302998fb",
   "metadata": {},
   "outputs": [],
   "source": [
    "from sympy import Derivative, symbols"
   ]
  },
  {
   "cell_type": "code",
   "execution_count": 8,
   "id": "b2b4e4f0",
   "metadata": {},
   "outputs": [],
   "source": [
    "# 평균변화율을 구할 수 있는 함수를 정의\n",
    "\n",
    "x = symbols('x')\n",
    "fx = 2*x**2+4*x+7"
   ]
  },
  {
   "cell_type": "code",
   "execution_count": 9,
   "id": "de51d833",
   "metadata": {},
   "outputs": [
    {
     "data": {
      "text/latex": [
       "$\\displaystyle 4 x + 4$"
      ],
      "text/plain": [
       "4*x + 4"
      ]
     },
     "execution_count": 9,
     "metadata": {},
     "output_type": "execute_result"
    }
   ],
   "source": [
    "Derivative(fx,x).doit()"
   ]
  },
  {
   "cell_type": "code",
   "execution_count": 10,
   "id": "fecc8820",
   "metadata": {},
   "outputs": [],
   "source": [
    "f_prime = Derivative(fx,x).doit()"
   ]
  },
  {
   "cell_type": "code",
   "execution_count": 11,
   "id": "bf896897",
   "metadata": {},
   "outputs": [
    {
     "data": {
      "text/latex": [
       "$\\displaystyle 16$"
      ],
      "text/plain": [
       "16"
      ]
     },
     "execution_count": 11,
     "metadata": {},
     "output_type": "execute_result"
    }
   ],
   "source": [
    "f_prime.subs({x:3}) # 미분계수 f_prime 3"
   ]
  },
  {
   "cell_type": "markdown",
   "id": "fab5e8bb",
   "metadata": {},
   "source": [
    "#### 다항함수의 미분"
   ]
  },
  {
   "cell_type": "code",
   "execution_count": 12,
   "id": "f8cc1a87",
   "metadata": {},
   "outputs": [],
   "source": [
    "import sympy as sym"
   ]
  },
  {
   "cell_type": "code",
   "execution_count": 13,
   "id": "06e4b6d1",
   "metadata": {},
   "outputs": [
    {
     "name": "stdout",
     "output_type": "stream",
     "text": [
      "6*x**2 + 6*x + 1\n"
     ]
    }
   ],
   "source": [
    "x = sym.Symbol('x')\n",
    "a = sym.diff((2*x**3+3*x**2+x+1), x)\n",
    "print(a)"
   ]
  },
  {
   "cell_type": "code",
   "execution_count": null,
   "id": "1f76e3c4",
   "metadata": {},
   "outputs": [],
   "source": []
  }
 ],
 "metadata": {
  "kernelspec": {
   "display_name": "Python 3 (ipykernel)",
   "language": "python",
   "name": "python3"
  },
  "language_info": {
   "codemirror_mode": {
    "name": "ipython",
    "version": 3
   },
   "file_extension": ".py",
   "mimetype": "text/x-python",
   "name": "python",
   "nbconvert_exporter": "python",
   "pygments_lexer": "ipython3",
   "version": "3.9.7"
  }
 },
 "nbformat": 4,
 "nbformat_minor": 5
}
