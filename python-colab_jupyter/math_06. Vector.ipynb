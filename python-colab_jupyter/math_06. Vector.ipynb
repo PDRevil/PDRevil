{
 "cells": [
  {
   "cell_type": "code",
   "execution_count": 1,
   "id": "aec28e79",
   "metadata": {},
   "outputs": [
    {
     "name": "stdout",
     "output_type": "stream",
     "text": [
      "[1 2 3]\n"
     ]
    }
   ],
   "source": [
    "import numpy as np\n",
    "\n",
    "x = np.array([1,2,3,])\n",
    "print(x)"
   ]
  },
  {
   "cell_type": "code",
   "execution_count": 2,
   "id": "beb886b5",
   "metadata": {},
   "outputs": [
    {
     "data": {
      "text/plain": [
       "array([1, 2, 3])"
      ]
     },
     "execution_count": 2,
     "metadata": {},
     "output_type": "execute_result"
    }
   ],
   "source": [
    "# 크기가 (1,3)인 2차원\n",
    "np.array([1,2,3,])"
   ]
  },
  {
   "cell_type": "code",
   "execution_count": 3,
   "id": "60a28c7d",
   "metadata": {},
   "outputs": [
    {
     "data": {
      "text/plain": [
       "array([[1],\n",
       "       [2],\n",
       "       [3]])"
      ]
     },
     "execution_count": 3,
     "metadata": {},
     "output_type": "execute_result"
    }
   ],
   "source": [
    "# 크기가 (1,3)인 2차원\n",
    "np.array([[1],[2],[3]])"
   ]
  },
  {
   "cell_type": "code",
   "execution_count": 4,
   "id": "588ea4ca",
   "metadata": {},
   "outputs": [
    {
     "name": "stdout",
     "output_type": "stream",
     "text": [
      "[2 3 1]\n"
     ]
    }
   ],
   "source": [
    "from scipy import linalg\n",
    "s = np.array([2,3,1])\n",
    "print(s)"
   ]
  },
  {
   "cell_type": "code",
   "execution_count": 5,
   "id": "8ad09fd7",
   "metadata": {},
   "outputs": [
    {
     "data": {
      "text/plain": [
       "array([0.53452248, 0.80178373, 0.26726124])"
      ]
     },
     "execution_count": 5,
     "metadata": {},
     "output_type": "execute_result"
    }
   ],
   "source": [
    "# 단위 벡터\n",
    "\n",
    "s / linalg.norm(s)"
   ]
  },
  {
   "cell_type": "code",
   "execution_count": 6,
   "id": "91dca1d4",
   "metadata": {},
   "outputs": [
    {
     "data": {
      "text/plain": [
       "array([ 0.31622777, -0.9486833 ])"
      ]
     },
     "execution_count": 6,
     "metadata": {},
     "output_type": "execute_result"
    }
   ],
   "source": [
    "# Norm\n",
    "x = np.array([1,-3])\n",
    "x / linalg.norm(x)"
   ]
  },
  {
   "cell_type": "code",
   "execution_count": 7,
   "id": "a47b3d31",
   "metadata": {},
   "outputs": [
    {
     "data": {
      "text/plain": [
       "array([ 0.31622777, -0.9486833 ])"
      ]
     },
     "execution_count": 7,
     "metadata": {},
     "output_type": "execute_result"
    }
   ],
   "source": [
    "# Norm 2\n",
    "x / (x**2).sum()**0.5 "
   ]
  },
  {
   "cell_type": "code",
   "execution_count": 8,
   "id": "fb505d86",
   "metadata": {},
   "outputs": [],
   "source": [
    "# 영벡터 (zeros())"
   ]
  },
  {
   "cell_type": "code",
   "execution_count": 9,
   "id": "a16dd2be",
   "metadata": {},
   "outputs": [
    {
     "data": {
      "text/plain": [
       "array([0., 0., 0., 0., 0.])"
      ]
     },
     "execution_count": 9,
     "metadata": {},
     "output_type": "execute_result"
    }
   ],
   "source": [
    "np.zeros(5) # 실수로 반환"
   ]
  },
  {
   "cell_type": "code",
   "execution_count": 10,
   "id": "f746120c",
   "metadata": {},
   "outputs": [
    {
     "data": {
      "text/plain": [
       "(5,)"
      ]
     },
     "execution_count": 10,
     "metadata": {},
     "output_type": "execute_result"
    }
   ],
   "source": [
    "np.zeros(5).shape"
   ]
  },
  {
   "cell_type": "code",
   "execution_count": 11,
   "id": "56c3d995",
   "metadata": {},
   "outputs": [
    {
     "data": {
      "text/plain": [
       "array([[0., 0.],\n",
       "       [0., 0.]])"
      ]
     },
     "execution_count": 11,
     "metadata": {},
     "output_type": "execute_result"
    }
   ],
   "source": [
    "s = (2,2)\n",
    "np.zeros(s)"
   ]
  },
  {
   "cell_type": "code",
   "execution_count": 12,
   "id": "2dce949e",
   "metadata": {},
   "outputs": [
    {
     "data": {
      "text/plain": [
       "2"
      ]
     },
     "execution_count": 12,
     "metadata": {},
     "output_type": "execute_result"
    }
   ],
   "source": [
    "# 선형 독립, 선형 종속\n",
    "# Rank\n",
    "\n",
    "# matrix_rank()\n",
    "\n",
    "x = np.array([[2,7],[5,1]])\n",
    "np.linalg.matrix_rank(x)"
   ]
  },
  {
   "cell_type": "code",
   "execution_count": 13,
   "id": "5758ee2f",
   "metadata": {},
   "outputs": [
    {
     "data": {
      "text/plain": [
       "1"
      ]
     },
     "execution_count": 13,
     "metadata": {},
     "output_type": "execute_result"
    }
   ],
   "source": [
    "x_2 = np.array([[2,4],[3,6]])\n",
    "np.linalg.matrix_rank(x_2)"
   ]
  },
  {
   "cell_type": "code",
   "execution_count": 14,
   "id": "4911f1fc",
   "metadata": {},
   "outputs": [
    {
     "data": {
      "text/plain": [
       "2"
      ]
     },
     "execution_count": 14,
     "metadata": {},
     "output_type": "execute_result"
    }
   ],
   "source": [
    "x_3 = np.array([[1,2],[3,5]])\n",
    "np.linalg.matrix_rank(x_3)"
   ]
  },
  {
   "cell_type": "code",
   "execution_count": 15,
   "id": "6a6db2dd",
   "metadata": {},
   "outputs": [
    {
     "name": "stdout",
     "output_type": "stream",
     "text": [
      "[5, 4]\n"
     ]
    }
   ],
   "source": [
    "# 벡터의 내적과 외적\n",
    "\n",
    "x = [2,3]\n",
    "y = [3,1]\n",
    "\n",
    "# 벡터의 내적 (zip 함수 활용)\n",
    "\n",
    "z = [i + j for i, j in zip(x,y)]\n",
    "print(z)"
   ]
  },
  {
   "cell_type": "code",
   "execution_count": 16,
   "id": "78ded282",
   "metadata": {},
   "outputs": [
    {
     "name": "stdout",
     "output_type": "stream",
     "text": [
      "[-1, 2]\n"
     ]
    }
   ],
   "source": [
    "z_2 = [i-j for i, j in zip(x,y)]\n",
    "print(z_2)"
   ]
  },
  {
   "cell_type": "code",
   "execution_count": 17,
   "id": "ec28289c",
   "metadata": {},
   "outputs": [
    {
     "name": "stdout",
     "output_type": "stream",
     "text": [
      "[24, 32]\n"
     ]
    }
   ],
   "source": [
    "# 벡터의 곱셈(inner product, outer product)\n",
    "x = [3,4]\n",
    "c = 8\n",
    "\n",
    "z =[c*i for i in x]\n",
    "print(z)"
   ]
  },
  {
   "cell_type": "code",
   "execution_count": 18,
   "id": "f52d17c5",
   "metadata": {},
   "outputs": [
    {
     "data": {
      "text/plain": [
       "72"
      ]
     },
     "execution_count": 18,
     "metadata": {},
     "output_type": "execute_result"
    }
   ],
   "source": [
    "# 내적(inner product)\n",
    "\n",
    "u = np.array([6,6])\n",
    "v = np.array([12,0])\n",
    "\n",
    "np.dot(u, v)"
   ]
  },
  {
   "cell_type": "code",
   "execution_count": 19,
   "id": "e1743bf6",
   "metadata": {},
   "outputs": [
    {
     "data": {
      "text/plain": [
       "[(1, 4), (2, 5), (3, 6)]"
      ]
     },
     "execution_count": 19,
     "metadata": {},
     "output_type": "execute_result"
    }
   ],
   "source": [
    "# zip 함수\n",
    "list(zip([1,2,3,],[4,5,6]))"
   ]
  },
  {
   "cell_type": "code",
   "execution_count": 20,
   "id": "960c5b13",
   "metadata": {},
   "outputs": [
    {
     "data": {
      "text/plain": [
       "[(1, 4, 7), (2, 5, 8), (3, 6, 9)]"
      ]
     },
     "execution_count": 20,
     "metadata": {},
     "output_type": "execute_result"
    }
   ],
   "source": [
    "list(zip([1,2,3,],[4,5,6],[7,8,9]))"
   ]
  },
  {
   "cell_type": "code",
   "execution_count": 43,
   "id": "1dad35ff",
   "metadata": {},
   "outputs": [],
   "source": [
    "# 벡터의 내적 원리\n",
    "\n",
    "import numpy as np\n",
    "\n",
    "A = np.arange(1*2*3).reshape((1,2,3))\n",
    "B1 = np.arange(1*2*3).reshape((1,2,3))\n",
    "B2 = np.arange(1*2*3).reshape((1,3,2))\n",
    "B3 = np.arange(1*2*3).reshape((2,1,3))\n",
    "B4 = np.arange(1*2*3).reshape((2,3,1))\n",
    "B5 = np.arange(1*2*3).reshape((3,1,2))\n",
    "B6 = np.arange(1*2*3).reshape((3,2,1))\n"
   ]
  },
  {
   "cell_type": "code",
   "execution_count": 44,
   "id": "ece76014",
   "metadata": {},
   "outputs": [
    {
     "data": {
      "text/plain": [
       "array([[[0, 1, 2],\n",
       "        [3, 4, 5]]])"
      ]
     },
     "execution_count": 44,
     "metadata": {},
     "output_type": "execute_result"
    }
   ],
   "source": [
    "np.arange(1*2*3).reshape((1,2,3))"
   ]
  },
  {
   "cell_type": "code",
   "execution_count": 45,
   "id": "101a0c3e",
   "metadata": {},
   "outputs": [
    {
     "ename": "ValueError",
     "evalue": "shapes (1,2,3) and (1,2,3) not aligned: 3 (dim 2) != 2 (dim 1)",
     "output_type": "error",
     "traceback": [
      "\u001b[1;31m---------------------------------------------------------------------------\u001b[0m",
      "\u001b[1;31mValueError\u001b[0m                                Traceback (most recent call last)",
      "\u001b[1;32m~\\AppData\\Local\\Temp/ipykernel_16484/995273085.py\u001b[0m in \u001b[0;36m<module>\u001b[1;34m\u001b[0m\n\u001b[1;32m----> 1\u001b[1;33m \u001b[0mnp\u001b[0m\u001b[1;33m.\u001b[0m\u001b[0mdot\u001b[0m\u001b[1;33m(\u001b[0m\u001b[0mA\u001b[0m\u001b[1;33m,\u001b[0m\u001b[0mB1\u001b[0m\u001b[1;33m)\u001b[0m \u001b[1;31m# value error 발생\u001b[0m\u001b[1;33m\u001b[0m\u001b[1;33m\u001b[0m\u001b[0m\n\u001b[0m",
      "\u001b[1;32m<__array_function__ internals>\u001b[0m in \u001b[0;36mdot\u001b[1;34m(*args, **kwargs)\u001b[0m\n",
      "\u001b[1;31mValueError\u001b[0m: shapes (1,2,3) and (1,2,3) not aligned: 3 (dim 2) != 2 (dim 1)"
     ]
    }
   ],
   "source": [
    "np.dot(A,B1) # value error 발생"
   ]
  },
  {
   "cell_type": "code",
   "execution_count": 46,
   "id": "0a4ddd1a",
   "metadata": {},
   "outputs": [
    {
     "data": {
      "text/plain": [
       "array([[[[10, 13]],\n",
       "\n",
       "        [[28, 40]]]])"
      ]
     },
     "execution_count": 46,
     "metadata": {},
     "output_type": "execute_result"
    }
   ],
   "source": [
    "np.dot(A,B2)"
   ]
  },
  {
   "cell_type": "code",
   "execution_count": 47,
   "id": "abce5c06",
   "metadata": {},
   "outputs": [
    {
     "ename": "ValueError",
     "evalue": "shapes (1,2,3) and (2,1,3) not aligned: 3 (dim 2) != 1 (dim 1)",
     "output_type": "error",
     "traceback": [
      "\u001b[1;31m---------------------------------------------------------------------------\u001b[0m",
      "\u001b[1;31mValueError\u001b[0m                                Traceback (most recent call last)",
      "\u001b[1;32m~\\AppData\\Local\\Temp/ipykernel_16484/4080142133.py\u001b[0m in \u001b[0;36m<module>\u001b[1;34m\u001b[0m\n\u001b[1;32m----> 1\u001b[1;33m \u001b[0mnp\u001b[0m\u001b[1;33m.\u001b[0m\u001b[0mdot\u001b[0m\u001b[1;33m(\u001b[0m\u001b[0mA\u001b[0m\u001b[1;33m,\u001b[0m\u001b[0mB3\u001b[0m\u001b[1;33m)\u001b[0m \u001b[1;31m# value error 발생\u001b[0m\u001b[1;33m\u001b[0m\u001b[1;33m\u001b[0m\u001b[0m\n\u001b[0m",
      "\u001b[1;32m<__array_function__ internals>\u001b[0m in \u001b[0;36mdot\u001b[1;34m(*args, **kwargs)\u001b[0m\n",
      "\u001b[1;31mValueError\u001b[0m: shapes (1,2,3) and (2,1,3) not aligned: 3 (dim 2) != 1 (dim 1)"
     ]
    }
   ],
   "source": [
    "np.dot(A,B3) # value error 발생"
   ]
  },
  {
   "cell_type": "code",
   "execution_count": 48,
   "id": "1c343231",
   "metadata": {},
   "outputs": [
    {
     "data": {
      "text/plain": [
       "array([[[[ 5],\n",
       "         [14]],\n",
       "\n",
       "        [[14],\n",
       "         [50]]]])"
      ]
     },
     "execution_count": 48,
     "metadata": {},
     "output_type": "execute_result"
    }
   ],
   "source": [
    "np.dot(A,B4)"
   ]
  },
  {
   "cell_type": "code",
   "execution_count": 49,
   "id": "c51a8d64",
   "metadata": {},
   "outputs": [
    {
     "ename": "ValueError",
     "evalue": "shapes (1,2,3) and (3,1,2) not aligned: 3 (dim 2) != 1 (dim 1)",
     "output_type": "error",
     "traceback": [
      "\u001b[1;31m---------------------------------------------------------------------------\u001b[0m",
      "\u001b[1;31mValueError\u001b[0m                                Traceback (most recent call last)",
      "\u001b[1;32m~\\AppData\\Local\\Temp/ipykernel_16484/1665170059.py\u001b[0m in \u001b[0;36m<module>\u001b[1;34m\u001b[0m\n\u001b[1;32m----> 1\u001b[1;33m \u001b[0mnp\u001b[0m\u001b[1;33m.\u001b[0m\u001b[0mdot\u001b[0m\u001b[1;33m(\u001b[0m\u001b[0mA\u001b[0m\u001b[1;33m,\u001b[0m\u001b[0mB5\u001b[0m\u001b[1;33m)\u001b[0m \u001b[1;31m# value error 발생\u001b[0m\u001b[1;33m\u001b[0m\u001b[1;33m\u001b[0m\u001b[0m\n\u001b[0m",
      "\u001b[1;32m<__array_function__ internals>\u001b[0m in \u001b[0;36mdot\u001b[1;34m(*args, **kwargs)\u001b[0m\n",
      "\u001b[1;31mValueError\u001b[0m: shapes (1,2,3) and (3,1,2) not aligned: 3 (dim 2) != 1 (dim 1)"
     ]
    }
   ],
   "source": [
    "np.dot(A,B5) # value error 발생"
   ]
  },
  {
   "cell_type": "code",
   "execution_count": 50,
   "id": "e5e57de4",
   "metadata": {},
   "outputs": [
    {
     "ename": "ValueError",
     "evalue": "shapes (1,2,3) and (3,2,1) not aligned: 3 (dim 2) != 2 (dim 1)",
     "output_type": "error",
     "traceback": [
      "\u001b[1;31m---------------------------------------------------------------------------\u001b[0m",
      "\u001b[1;31mValueError\u001b[0m                                Traceback (most recent call last)",
      "\u001b[1;32m~\\AppData\\Local\\Temp/ipykernel_16484/1608734152.py\u001b[0m in \u001b[0;36m<module>\u001b[1;34m\u001b[0m\n\u001b[1;32m----> 1\u001b[1;33m \u001b[0mnp\u001b[0m\u001b[1;33m.\u001b[0m\u001b[0mdot\u001b[0m\u001b[1;33m(\u001b[0m\u001b[0mA\u001b[0m\u001b[1;33m,\u001b[0m\u001b[0mB6\u001b[0m\u001b[1;33m)\u001b[0m \u001b[1;31m# value error 발생\u001b[0m\u001b[1;33m\u001b[0m\u001b[1;33m\u001b[0m\u001b[0m\n\u001b[0m",
      "\u001b[1;32m<__array_function__ internals>\u001b[0m in \u001b[0;36mdot\u001b[1;34m(*args, **kwargs)\u001b[0m\n",
      "\u001b[1;31mValueError\u001b[0m: shapes (1,2,3) and (3,2,1) not aligned: 3 (dim 2) != 2 (dim 1)"
     ]
    }
   ],
   "source": [
    "np.dot(A,B6) # value error 발생"
   ]
  },
  {
   "cell_type": "code",
   "execution_count": 52,
   "id": "4e049c23",
   "metadata": {},
   "outputs": [
    {
     "name": "stdout",
     "output_type": "stream",
     "text": [
      "-75\n"
     ]
    }
   ],
   "source": [
    "import numpy as np\n",
    "\n",
    "u = np.array([3,-6])\n",
    "v = np.array([-7,9])\n",
    "\n",
    "uv = np.dot(u,v)\n",
    "print(uv)"
   ]
  },
  {
   "cell_type": "code",
   "execution_count": 53,
   "id": "da15a550",
   "metadata": {},
   "outputs": [],
   "source": [
    "# 외적(cross() 함수 적용)\n",
    "\n",
    "a = (1,3,5)\n",
    "b = (2,4,6)\n",
    "\n",
    "# 외적함수 코드\n",
    "\n",
    "def cross(a,b):   \n",
    "    c = [a[1]*b[2]-a[2]*b[1],\n",
    "        a[2]*b[0]-a[0]*b[2],\n",
    "        a[0]*b[1]-a[1]*b[0]]\n",
    "    return c"
   ]
  },
  {
   "cell_type": "code",
   "execution_count": 54,
   "id": "e1f3a3f1",
   "metadata": {},
   "outputs": [
    {
     "data": {
      "text/plain": [
       "[-2, 4, -2]"
      ]
     },
     "execution_count": 54,
     "metadata": {},
     "output_type": "execute_result"
    }
   ],
   "source": [
    "cross(a,b)"
   ]
  },
  {
   "cell_type": "code",
   "execution_count": 55,
   "id": "a0d43f0f",
   "metadata": {},
   "outputs": [
    {
     "name": "stdout",
     "output_type": "stream",
     "text": [
      "[-2  4 -2]\n"
     ]
    }
   ],
   "source": [
    "# numpy 이용 벡터 외적 구하기\n",
    "import numpy as np\n",
    "\n",
    "print(np.cross(a,b))"
   ]
  },
  {
   "cell_type": "code",
   "execution_count": 56,
   "id": "7b436112",
   "metadata": {},
   "outputs": [
    {
     "name": "stdout",
     "output_type": "stream",
     "text": [
      "[1 2]\n"
     ]
    }
   ],
   "source": [
    "# 직교 벡터\n",
    "import numpy as np\n",
    "\n",
    "# 크기가 (1,2)인 2차원 배열\n",
    "\n",
    "a = np.array([1,2])\n",
    "print(a)"
   ]
  },
  {
   "cell_type": "code",
   "execution_count": 59,
   "id": "749309d4",
   "metadata": {},
   "outputs": [
    {
     "data": {
      "text/plain": [
       "2.23606797749979"
      ]
     },
     "execution_count": 59,
     "metadata": {},
     "output_type": "execute_result"
    }
   ],
   "source": [
    "np.linalg.norm(a) # a의 길이"
   ]
  },
  {
   "cell_type": "code",
   "execution_count": 60,
   "id": "b483b4e1",
   "metadata": {},
   "outputs": [
    {
     "data": {
      "text/plain": [
       "3.0"
      ]
     },
     "execution_count": 60,
     "metadata": {},
     "output_type": "execute_result"
    }
   ],
   "source": [
    "# L1 norm\n",
    "\n",
    "np.linalg.norm(a,ord = 1)"
   ]
  },
  {
   "cell_type": "code",
   "execution_count": 61,
   "id": "5e294e9a",
   "metadata": {},
   "outputs": [
    {
     "data": {
      "text/plain": [
       "2.23606797749979"
      ]
     },
     "execution_count": 61,
     "metadata": {},
     "output_type": "execute_result"
    }
   ],
   "source": [
    "# L2 norm\n",
    "\n",
    "np.linalg.norm(a,ord = 2)"
   ]
  },
  {
   "cell_type": "code",
   "execution_count": 62,
   "id": "77b7a90a",
   "metadata": {},
   "outputs": [
    {
     "data": {
      "text/plain": [
       "5.196152422706632"
      ]
     },
     "execution_count": 62,
     "metadata": {},
     "output_type": "execute_result"
    }
   ],
   "source": [
    "# 유클리디언 거리 구하기\n",
    "\n",
    "from scipy.spatial import distance\n",
    "\n",
    "p1 = (1,2,3)\n",
    "p2 = (4,5,6)\n",
    "\n",
    "#p1, p2 사이 유클리디언 거리\n",
    "\n",
    "distance.euclidean(p1,p2)"
   ]
  },
  {
   "cell_type": "code",
   "execution_count": 63,
   "id": "e4d0455a",
   "metadata": {},
   "outputs": [],
   "source": [
    "# 맨해튼 거리\n",
    "\n",
    "from math import * # 모두 호출\n",
    "\n",
    "p1 = (1,2,3)\n",
    "p2 = (4,5,6)\n",
    "\n",
    "# p1, p2 사이 맨해튼 거리\n",
    "\n",
    "def manhathan_dist(x,y):\n",
    "    return sum(abs(a-b) for a, b in zip(x,y))"
   ]
  },
  {
   "cell_type": "code",
   "execution_count": 64,
   "id": "d86d0bee",
   "metadata": {},
   "outputs": [
    {
     "data": {
      "text/plain": [
       "9"
      ]
     },
     "execution_count": 64,
     "metadata": {},
     "output_type": "execute_result"
    }
   ],
   "source": [
    "manhathan_dist(p1,p2)"
   ]
  },
  {
   "cell_type": "code",
   "execution_count": 68,
   "id": "fd56fcb6",
   "metadata": {},
   "outputs": [],
   "source": [
    "# 코사인 유사도 - 문서 유사도\n",
    "\n",
    "from numpy import dot\n",
    "from numpy.linalg import norm\n",
    "import numpy as np\n",
    "\n",
    "def cos_sim(A, B):\n",
    "    return dot(A, B)/(norm(A)*norm(B))"
   ]
  },
  {
   "cell_type": "code",
   "execution_count": 69,
   "id": "0853afb7",
   "metadata": {},
   "outputs": [],
   "source": [
    "doc1 = np.array([1,1,1,1,0])\n",
    "doc2 = np.array([1,0,1,0,1])\n",
    "doc3 = np.array([2,1,1,1,0])"
   ]
  },
  {
   "cell_type": "code",
   "execution_count": 70,
   "id": "604b9b55",
   "metadata": {},
   "outputs": [
    {
     "name": "stdout",
     "output_type": "stream",
     "text": [
      "0.5773502691896258\n",
      "0.944911182523068\n",
      "0.6546536707079772\n"
     ]
    }
   ],
   "source": [
    "# 코사인 함수에 따라 문서 간 유사도 출력하기\n",
    "\n",
    "print(cos_sim(doc1, doc2))\n",
    "print(cos_sim(doc1, doc3)) # 문서 1과 문서 3 유사도가 가장 높음\n",
    "print(cos_sim(doc2, doc3))"
   ]
  },
  {
   "cell_type": "code",
   "execution_count": null,
   "id": "a9f7bff2",
   "metadata": {},
   "outputs": [],
   "source": []
  }
 ],
 "metadata": {
  "kernelspec": {
   "display_name": "Python 3 (ipykernel)",
   "language": "python",
   "name": "python3"
  },
  "language_info": {
   "codemirror_mode": {
    "name": "ipython",
    "version": 3
   },
   "file_extension": ".py",
   "mimetype": "text/x-python",
   "name": "python",
   "nbconvert_exporter": "python",
   "pygments_lexer": "ipython3",
   "version": "3.9.7"
  }
 },
 "nbformat": 4,
 "nbformat_minor": 5
}
